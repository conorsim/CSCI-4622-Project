{
 "cells": [
  {
   "cell_type": "markdown",
   "id": "painful-scott",
   "metadata": {},
   "source": [
    "# Various sklearn models"
   ]
  },
  {
   "cell_type": "code",
   "execution_count": 13,
   "id": "narrow-nicholas",
   "metadata": {},
   "outputs": [],
   "source": [
    "import numpy as np\n",
    "import matplotlib.pyplot as plt\n",
    "import os\n",
    "from mlxtend.data import loadlocal_mnist\n",
    "from sklearn.metrics import accuracy_score, f1_score\n",
    "\n",
    "Xtrain = np.load(os.getcwd()+'/../feature_representations/feature_representation_1_train.npy')\n",
    "_, ytrain = loadlocal_mnist(\n",
    "    images_path=os.getcwd()+'/../emnist/emnist-letters-train-images-idx3-ubyte', \n",
    "    labels_path=os.getcwd()+'/../emnist/emnist-letters-train-labels-idx1-ubyte')\n",
    "Xtest = np.load(os.getcwd()+'/../feature_representations/feature_representation_1_test.npy')\n",
    "_, ytest = loadlocal_mnist(\n",
    "    images_path=os.getcwd()+'/../emnist/emnist-letters-test-images-idx3-ubyte', \n",
    "    labels_path=os.getcwd()+'/../emnist/emnist-letters-test-labels-idx1-ubyte')"
   ]
  },
  {
   "cell_type": "code",
   "execution_count": 6,
   "id": "starting-concept",
   "metadata": {},
   "outputs": [
    {
     "data": {
      "text/plain": [
       "((124800, 18), (124800,), (20800, 18), (20800,))"
      ]
     },
     "execution_count": 6,
     "metadata": {},
     "output_type": "execute_result"
    }
   ],
   "source": [
    "Xtrain.shape, ytrain.shape, Xtest.shape, ytest.shape"
   ]
  },
  {
   "cell_type": "markdown",
   "id": "adolescent-ordinance",
   "metadata": {},
   "source": [
    "I have noticed better performance so far by removing the last 10 features."
   ]
  },
  {
   "cell_type": "code",
   "execution_count": 8,
   "id": "accessible-header",
   "metadata": {},
   "outputs": [
    {
     "data": {
      "text/plain": [
       "((124800, 8), (124800,), (20800, 8), (20800,))"
      ]
     },
     "execution_count": 8,
     "metadata": {},
     "output_type": "execute_result"
    }
   ],
   "source": [
    "Xtrain = Xtrain[:,:8]\n",
    "Xtest = Xtest[:,:8]\n",
    "Xtrain.shape, ytrain.shape, Xtest.shape, ytest.shape"
   ]
  },
  {
   "cell_type": "markdown",
   "id": "completed-politics",
   "metadata": {},
   "source": [
    "# KNN"
   ]
  },
  {
   "cell_type": "code",
   "execution_count": 9,
   "id": "comparative-sector",
   "metadata": {},
   "outputs": [],
   "source": [
    "from sklearn.neighbors import KNeighborsClassifier\n",
    "\n",
    "k = 3\n",
    "model = KNeighborsClassifier(n_neighbors=k)\n",
    "model.fit(Xtrain, ytrain)\n",
    "yhat = model.predict(Xtest)"
   ]
  },
  {
   "cell_type": "code",
   "execution_count": 14,
   "id": "approved-recipe",
   "metadata": {},
   "outputs": [
    {
     "name": "stdout",
     "output_type": "stream",
     "text": [
      "Accuracy is 0.4948076923076923\n",
      "F1 score is 0.49930297849493993\n"
     ]
    }
   ],
   "source": [
    "acc = accuracy_score(ytest, yhat)\n",
    "f1 = f1_score(ytest, yhat, average='macro')\n",
    "print(f'Accuracy is {acc}')\n",
    "print(f'F1 score is {f1}')"
   ]
  },
  {
   "cell_type": "markdown",
   "id": "deadly-taste",
   "metadata": {},
   "source": [
    "# Naive Bayes"
   ]
  },
  {
   "cell_type": "code",
   "execution_count": 15,
   "id": "homeless-savings",
   "metadata": {},
   "outputs": [],
   "source": [
    "from sklearn.naive_bayes import GaussianNB\n",
    "\n",
    "model = GaussianNB()\n",
    "model.fit(Xtrain, ytrain)\n",
    "yhat = model.predict(Xtest)"
   ]
  },
  {
   "cell_type": "code",
   "execution_count": 16,
   "id": "departmental-azerbaijan",
   "metadata": {},
   "outputs": [
    {
     "name": "stdout",
     "output_type": "stream",
     "text": [
      "Accuracy is 0.13557692307692307\n",
      "F1 score is 0.10424439913171545\n"
     ]
    }
   ],
   "source": [
    "acc = accuracy_score(ytest, yhat)\n",
    "f1 = f1_score(ytest, yhat, average='macro')\n",
    "print(f'Accuracy is {acc}')\n",
    "print(f'F1 score is {f1}')"
   ]
  },
  {
   "cell_type": "markdown",
   "id": "adequate-manhattan",
   "metadata": {},
   "source": [
    "# Random Forest"
   ]
  },
  {
   "cell_type": "code",
   "execution_count": 17,
   "id": "thermal-promise",
   "metadata": {},
   "outputs": [],
   "source": [
    "from sklearn.ensemble import RandomForestClassifier\n",
    "\n",
    "model = RandomForestClassifier()\n",
    "model.fit(Xtrain, ytrain)\n",
    "yhat = model.predict(Xtest)"
   ]
  },
  {
   "cell_type": "code",
   "execution_count": 18,
   "id": "ready-uruguay",
   "metadata": {},
   "outputs": [
    {
     "name": "stdout",
     "output_type": "stream",
     "text": [
      "Accuracy is 0.3870673076923077\n",
      "F1 score is 0.37035153358816303\n"
     ]
    }
   ],
   "source": [
    "acc = accuracy_score(ytest, yhat)\n",
    "f1 = f1_score(ytest, yhat, average='macro')\n",
    "print(f'Accuracy is {acc}')\n",
    "print(f'F1 score is {f1}')"
   ]
  },
  {
   "cell_type": "markdown",
   "id": "indonesian-gossip",
   "metadata": {},
   "source": [
    "# Support Vector Machine\n",
    "\n",
    "This may take a little while to run..."
   ]
  },
  {
   "cell_type": "code",
   "execution_count": null,
   "id": "fiscal-seven",
   "metadata": {},
   "outputs": [],
   "source": [
    "from sklearn.svm import SVC\n",
    "\n",
    "model = SVC()\n",
    "model.fit(Xtrain, ytrain)\n",
    "yhat = model.predict(Xtest)"
   ]
  },
  {
   "cell_type": "code",
   "execution_count": null,
   "id": "improved-facial",
   "metadata": {},
   "outputs": [],
   "source": [
    "acc = accuracy_score(ytest, yhat)\n",
    "f1 = f1_score(ytest, yhat, average='macro')\n",
    "print(f'Accuracy is {acc}')\n",
    "print(f'F1 score is {f1}')"
   ]
  },
  {
   "cell_type": "markdown",
   "id": "neural-conditions",
   "metadata": {},
   "source": [
    "#### Optional: play with the feature representation of a flattened, downsampled image."
   ]
  },
  {
   "cell_type": "code",
   "execution_count": 20,
   "id": "removable-territory",
   "metadata": {},
   "outputs": [
    {
     "data": {
      "text/plain": [
       "((124800, 64), (124800,), (20800, 64), (20800,))"
      ]
     },
     "execution_count": 20,
     "metadata": {},
     "output_type": "execute_result"
    }
   ],
   "source": [
    "from PIL import Image\n",
    "\n",
    "Xtrain = np.zeros((Xtrain.shape[0], 64))\n",
    "Xtest = np.zeros((Xtest.shape[0], 64))\n",
    "for i in range(XorigTrain.shape[0]):\n",
    "    x = XorigTrain[i,:]\n",
    "    x.reshape(28,28)\n",
    "    img = Image.fromarray(x).resize((8,8), Image.BICUBIC)\n",
    "    x = np.array(img).flatten()\n",
    "    Xtrain[i,:] = x\n",
    "for i in range(XorigTest.shape[0]):\n",
    "    x = XorigTest[i,:]\n",
    "    x.reshape(28,28)\n",
    "    img = Image.fromarray(x).resize((8,8), Image.BICUBIC)\n",
    "    x = np.array(img).flatten()\n",
    "    Xtest[i,:] = x\n",
    "    \n",
    "Xtrain.shape, ytrain.shape, Xtest.shape, ytest.shape"
   ]
  }
 ],
 "metadata": {
  "kernelspec": {
   "display_name": "Python 3",
   "language": "python",
   "name": "python3"
  },
  "language_info": {
   "codemirror_mode": {
    "name": "ipython",
    "version": 3
   },
   "file_extension": ".py",
   "mimetype": "text/x-python",
   "name": "python",
   "nbconvert_exporter": "python",
   "pygments_lexer": "ipython3",
   "version": "3.9.1"
  }
 },
 "nbformat": 4,
 "nbformat_minor": 5
}

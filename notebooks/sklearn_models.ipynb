{
 "cells": [
  {
   "cell_type": "markdown",
   "id": "typical-responsibility",
   "metadata": {},
   "source": [
    "# Various sklearn models"
   ]
  },
  {
   "cell_type": "code",
   "execution_count": 2,
   "id": "other-kruger",
   "metadata": {},
   "outputs": [],
   "source": [
    "import numpy as np\n",
    "import matplotlib.pyplot as plt\n",
    "import os\n",
    "from sklearn.metrics import accuracy_score, f1_score\n",
    "\n",
    "Xtrain = np.load(os.getcwd()+'/../feature_representations/feature_representation_2_train.npy')\n",
    "ytrain = np.load(os.getcwd()+'/../feature_representations/ytrain.npy')\n",
    "Xtest = np.load(os.getcwd()+'/../feature_representations/feature_representation_2_test.npy')\n",
    "ytest = np.load(os.getcwd()+'/../feature_representations/ytest.npy')"
   ]
  },
  {
   "cell_type": "code",
   "execution_count": 3,
   "id": "progressive-daily",
   "metadata": {},
   "outputs": [
    {
     "data": {
      "text/plain": [
       "((124800, 17), (124800,), (20800, 17), (20800,))"
      ]
     },
     "execution_count": 3,
     "metadata": {},
     "output_type": "execute_result"
    }
   ],
   "source": [
    "Xtrain.shape, ytrain.shape, Xtest.shape, ytest.shape"
   ]
  },
  {
   "cell_type": "markdown",
   "id": "handed-direction",
   "metadata": {},
   "source": [
    "I have noticed better performance so far by removing the last 10 features for FR1."
   ]
  },
  {
   "cell_type": "code",
   "execution_count": 3,
   "id": "included-natural",
   "metadata": {},
   "outputs": [],
   "source": [
    "# Xtrain = Xtrain[:,:8]\n",
    "# Xtest = Xtest[:,:8]\n",
    "# Xtrain.shape, ytrain.shape, Xtest.shape, ytest.shape"
   ]
  },
  {
   "cell_type": "code",
   "execution_count": 4,
   "id": "shaped-logan",
   "metadata": {},
   "outputs": [],
   "source": [
    "from sklearn.decomposition import PCA\n",
    "\n",
    "pca = PCA(n_components=17)\n",
    "pca.fit(Xtrain)\n",
    "Xtrain = pca.transform(Xtrain)"
   ]
  },
  {
   "cell_type": "markdown",
   "id": "experimental-balance",
   "metadata": {},
   "source": [
    "# KNN"
   ]
  },
  {
   "cell_type": "code",
   "execution_count": 5,
   "id": "iraqi-wedding",
   "metadata": {},
   "outputs": [],
   "source": [
    "from sklearn.neighbors import KNeighborsClassifier\n",
    "\n",
    "k = 3\n",
    "model = KNeighborsClassifier(n_neighbors=k)\n",
    "model.fit(Xtrain, ytrain)\n",
    "yhat = model.predict(Xtest)"
   ]
  },
  {
   "cell_type": "code",
   "execution_count": 6,
   "id": "printable-debate",
   "metadata": {},
   "outputs": [
    {
     "name": "stdout",
     "output_type": "stream",
     "text": [
      "Accuracy is 0.027019230769230768\n",
      "F1 score is 0.022578150667278994\n"
     ]
    }
   ],
   "source": [
    "acc = accuracy_score(ytest, yhat)\n",
    "f1 = f1_score(ytest, yhat, average='macro')\n",
    "print(f'Accuracy is {acc}')\n",
    "print(f'F1 score is {f1}')"
   ]
  },
  {
   "cell_type": "markdown",
   "id": "auburn-rental",
   "metadata": {},
   "source": [
    "# Naive Bayes"
   ]
  },
  {
   "cell_type": "code",
   "execution_count": 7,
   "id": "disciplinary-tuner",
   "metadata": {},
   "outputs": [],
   "source": [
    "from sklearn.naive_bayes import GaussianNB\n",
    "\n",
    "model = GaussianNB()\n",
    "model.fit(Xtrain, ytrain)\n",
    "yhat = model.predict(Xtest)"
   ]
  },
  {
   "cell_type": "code",
   "execution_count": 8,
   "id": "following-sister",
   "metadata": {},
   "outputs": [
    {
     "name": "stdout",
     "output_type": "stream",
     "text": [
      "Accuracy is 0.021298076923076923\n",
      "F1 score is 0.01717086915485448\n"
     ]
    }
   ],
   "source": [
    "acc = accuracy_score(ytest, yhat)\n",
    "f1 = f1_score(ytest, yhat, average='macro')\n",
    "print(f'Accuracy is {acc}')\n",
    "print(f'F1 score is {f1}')"
   ]
  },
  {
   "cell_type": "markdown",
   "id": "ahead-stack",
   "metadata": {},
   "source": [
    "# Random Forest"
   ]
  },
  {
   "cell_type": "code",
   "execution_count": 9,
   "id": "interstate-fault",
   "metadata": {},
   "outputs": [],
   "source": [
    "from sklearn.ensemble import RandomForestClassifier\n",
    "\n",
    "model = RandomForestClassifier()\n",
    "model.fit(Xtrain, ytrain)\n",
    "yhat = model.predict(Xtest)"
   ]
  },
  {
   "cell_type": "code",
   "execution_count": 10,
   "id": "distributed-smell",
   "metadata": {},
   "outputs": [
    {
     "name": "stdout",
     "output_type": "stream",
     "text": [
      "Accuracy is 0.027644230769230768\n",
      "F1 score is 0.023423089424563663\n"
     ]
    }
   ],
   "source": [
    "acc = accuracy_score(ytest, yhat)\n",
    "f1 = f1_score(ytest, yhat, average='macro')\n",
    "print(f'Accuracy is {acc}')\n",
    "print(f'F1 score is {f1}')"
   ]
  },
  {
   "cell_type": "markdown",
   "id": "published-julian",
   "metadata": {},
   "source": [
    "# Support Vector Machine\n",
    "\n",
    "This may take a little while to run..."
   ]
  },
  {
   "cell_type": "code",
   "execution_count": 11,
   "id": "legitimate-showcase",
   "metadata": {},
   "outputs": [],
   "source": [
    "from sklearn.svm import SVC\n",
    "\n",
    "model = SVC()\n",
    "model.fit(Xtrain, ytrain)\n",
    "yhat = model.predict(Xtest)"
   ]
  },
  {
   "cell_type": "code",
   "execution_count": 12,
   "id": "blank-intersection",
   "metadata": {},
   "outputs": [
    {
     "name": "stdout",
     "output_type": "stream",
     "text": [
      "Accuracy is 0.03120192307692308\n",
      "F1 score is 0.02548824846797005\n"
     ]
    }
   ],
   "source": [
    "acc = accuracy_score(ytest, yhat)\n",
    "f1 = f1_score(ytest, yhat, average='macro')\n",
    "print(f'Accuracy is {acc}')\n",
    "print(f'F1 score is {f1}')"
   ]
  },
  {
   "cell_type": "code",
   "execution_count": 13,
   "id": "dated-florida",
   "metadata": {},
   "outputs": [],
   "source": [
    "model = SVC(kernel='linear')\n",
    "model.fit(Xtrain, ytrain)\n",
    "yhat = model.predict(Xtest)"
   ]
  },
  {
   "cell_type": "code",
   "execution_count": 14,
   "id": "smart-visitor",
   "metadata": {},
   "outputs": [
    {
     "name": "stdout",
     "output_type": "stream",
     "text": [
      "Accuracy is 0.02278846153846154\n",
      "F1 score is 0.023242453894584715\n"
     ]
    }
   ],
   "source": [
    "acc = accuracy_score(ytest, yhat)\n",
    "f1 = f1_score(ytest, yhat, average='macro')\n",
    "print(f'Accuracy is {acc}')\n",
    "print(f'F1 score is {f1}')"
   ]
  },
  {
   "cell_type": "code",
   "execution_count": 15,
   "id": "documentary-feeding",
   "metadata": {},
   "outputs": [],
   "source": [
    "model = SVC(kernel='poly')\n",
    "model.fit(Xtrain, ytrain)\n",
    "yhat = model.predict(Xtest)"
   ]
  },
  {
   "cell_type": "code",
   "execution_count": 16,
   "id": "secret-cement",
   "metadata": {},
   "outputs": [
    {
     "name": "stdout",
     "output_type": "stream",
     "text": [
      "Accuracy is 0.03485576923076923\n",
      "F1 score is 0.01850774466042029\n"
     ]
    }
   ],
   "source": [
    "acc = accuracy_score(ytest, yhat)\n",
    "f1 = f1_score(ytest, yhat, average='macro')\n",
    "print(f'Accuracy is {acc}')\n",
    "print(f'F1 score is {f1}')"
   ]
  },
  {
   "cell_type": "markdown",
   "id": "apart-innocent",
   "metadata": {},
   "source": [
    "# Neural Network"
   ]
  },
  {
   "cell_type": "code",
   "execution_count": 17,
   "id": "distinguished-priority",
   "metadata": {},
   "outputs": [
    {
     "name": "stderr",
     "output_type": "stream",
     "text": [
      "/home/conor/anaconda3/envs/3022/lib/python3.6/site-packages/sklearn/neural_network/_multilayer_perceptron.py:617: ConvergenceWarning: Stochastic Optimizer: Maximum iterations (200) reached and the optimization hasn't converged yet.\n",
      "  % self.max_iter, ConvergenceWarning)\n"
     ]
    },
    {
     "data": {
      "text/plain": [
       "MLPClassifier(activation='logistic', batch_size=16,\n",
       "              hidden_layer_sizes=[25, 50, 100, 50], random_state=4622)"
      ]
     },
     "execution_count": 17,
     "metadata": {},
     "output_type": "execute_result"
    }
   ],
   "source": [
    "from sklearn.neural_network import MLPClassifier\n",
    "\n",
    "model = MLPClassifier(\n",
    "    hidden_layer_sizes = [25,50,100,50],\n",
    "    activation='logistic',\n",
    "    solver='adam',\n",
    "    batch_size=16,\n",
    "    shuffle=True,\n",
    "    random_state=4622,\n",
    ")\n",
    "model.fit(Xtrain, ytrain)"
   ]
  },
  {
   "cell_type": "code",
   "execution_count": 18,
   "id": "meaning-sacramento",
   "metadata": {},
   "outputs": [
    {
     "name": "stdout",
     "output_type": "stream",
     "text": [
      "Accuracy is 0.03485576923076923\n",
      "F1 score is 0.01850774466042029\n"
     ]
    }
   ],
   "source": [
    "acc = accuracy_score(ytest, yhat)\n",
    "f1 = f1_score(ytest, yhat, average='macro')\n",
    "print(f'Accuracy is {acc}')\n",
    "print(f'F1 score is {f1}')"
   ]
  }
 ],
 "metadata": {
  "kernelspec": {
   "display_name": "Python 3",
   "language": "python",
   "name": "python3"
  },
  "language_info": {
   "codemirror_mode": {
    "name": "ipython",
    "version": 3
   },
   "file_extension": ".py",
   "mimetype": "text/x-python",
   "name": "python",
   "nbconvert_exporter": "python",
   "pygments_lexer": "ipython3",
   "version": "3.8.10"
  }
 },
 "nbformat": 4,
 "nbformat_minor": 5
}

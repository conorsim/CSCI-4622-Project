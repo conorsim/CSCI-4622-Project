{
 "cells": [
  {
   "cell_type": "markdown",
   "id": "japanese-theme",
   "metadata": {},
   "source": [
    "# Various sklearn models"
   ]
  },
  {
   "cell_type": "code",
   "execution_count": 1,
   "id": "solved-locking",
   "metadata": {},
   "outputs": [],
   "source": [
    "import numpy as np\n",
    "import matplotlib.pyplot as plt\n",
    "import os\n",
    "from sklearn.metrics import accuracy_score, f1_score\n",
    "\n",
    "Xtrain = np.load(os.getcwd()+'/../feature_representations/feature_representation_1_train.npy')\n",
    "ytrain = np.load(os.getcwd()+'/../feature_representations/ytrain.npy')\n",
    "Xtest = np.load(os.getcwd()+'/../feature_representations/feature_representation_1_test.npy')\n",
    "ytest = np.load(os.getcwd()+'/../feature_representations/ytest.npy')"
   ]
  },
  {
   "cell_type": "code",
   "execution_count": 2,
   "id": "induced-recipient",
   "metadata": {},
   "outputs": [
    {
     "data": {
      "text/plain": [
       "((124800, 18), (124800,), (20800, 18), (20800,))"
      ]
     },
     "execution_count": 2,
     "metadata": {},
     "output_type": "execute_result"
    }
   ],
   "source": [
    "Xtrain.shape, ytrain.shape, Xtest.shape, ytest.shape"
   ]
  },
  {
   "cell_type": "markdown",
   "id": "attempted-deficit",
   "metadata": {},
   "source": [
    "I have noticed better performance so far by removing the last 10 features."
   ]
  },
  {
   "cell_type": "code",
   "execution_count": 3,
   "id": "iraqi-closer",
   "metadata": {},
   "outputs": [
    {
     "data": {
      "text/plain": [
       "((124800, 8), (124800,), (20800, 8), (20800,))"
      ]
     },
     "execution_count": 3,
     "metadata": {},
     "output_type": "execute_result"
    }
   ],
   "source": [
    "Xtrain = Xtrain[:,:8]\n",
    "Xtest = Xtest[:,:8]\n",
    "Xtrain.shape, ytrain.shape, Xtest.shape, ytest.shape"
   ]
  },
  {
   "cell_type": "markdown",
   "id": "widespread-mechanism",
   "metadata": {},
   "source": [
    "# KNN"
   ]
  },
  {
   "cell_type": "code",
   "execution_count": 4,
   "id": "varied-exhaust",
   "metadata": {},
   "outputs": [],
   "source": [
    "from sklearn.neighbors import KNeighborsClassifier\n",
    "\n",
    "k = 3\n",
    "model = KNeighborsClassifier(n_neighbors=k)\n",
    "model.fit(Xtrain, ytrain)\n",
    "yhat = model.predict(Xtest)"
   ]
  },
  {
   "cell_type": "code",
   "execution_count": 5,
   "id": "assisted-murder",
   "metadata": {},
   "outputs": [
    {
     "name": "stdout",
     "output_type": "stream",
     "text": [
      "Accuracy is 0.4948076923076923\n",
      "F1 score is 0.49930297849493993\n"
     ]
    }
   ],
   "source": [
    "acc = accuracy_score(ytest, yhat)\n",
    "f1 = f1_score(ytest, yhat, average='macro')\n",
    "print(f'Accuracy is {acc}')\n",
    "print(f'F1 score is {f1}')"
   ]
  },
  {
   "cell_type": "markdown",
   "id": "grave-permission",
   "metadata": {},
   "source": [
    "# Naive Bayes"
   ]
  },
  {
   "cell_type": "code",
   "execution_count": 6,
   "id": "contemporary-flower",
   "metadata": {},
   "outputs": [],
   "source": [
    "from sklearn.naive_bayes import GaussianNB\n",
    "\n",
    "model = GaussianNB()\n",
    "model.fit(Xtrain, ytrain)\n",
    "yhat = model.predict(Xtest)"
   ]
  },
  {
   "cell_type": "code",
   "execution_count": 7,
   "id": "monetary-electron",
   "metadata": {},
   "outputs": [
    {
     "name": "stdout",
     "output_type": "stream",
     "text": [
      "Accuracy is 0.35139423076923076\n",
      "F1 score is 0.3359204031734828\n"
     ]
    }
   ],
   "source": [
    "acc = accuracy_score(ytest, yhat)\n",
    "f1 = f1_score(ytest, yhat, average='macro')\n",
    "print(f'Accuracy is {acc}')\n",
    "print(f'F1 score is {f1}')"
   ]
  },
  {
   "cell_type": "markdown",
   "id": "chief-electricity",
   "metadata": {},
   "source": [
    "# Random Forest"
   ]
  },
  {
   "cell_type": "code",
   "execution_count": 8,
   "id": "arbitrary-court",
   "metadata": {},
   "outputs": [],
   "source": [
    "from sklearn.ensemble import RandomForestClassifier\n",
    "\n",
    "model = RandomForestClassifier()\n",
    "model.fit(Xtrain, ytrain)\n",
    "yhat = model.predict(Xtest)"
   ]
  },
  {
   "cell_type": "code",
   "execution_count": 9,
   "id": "concerned-receiver",
   "metadata": {},
   "outputs": [
    {
     "name": "stdout",
     "output_type": "stream",
     "text": [
      "Accuracy is 0.5600480769230769\n",
      "F1 score is 0.5570773811066903\n"
     ]
    }
   ],
   "source": [
    "acc = accuracy_score(ytest, yhat)\n",
    "f1 = f1_score(ytest, yhat, average='macro')\n",
    "print(f'Accuracy is {acc}')\n",
    "print(f'F1 score is {f1}')"
   ]
  },
  {
   "cell_type": "markdown",
   "id": "future-sword",
   "metadata": {},
   "source": [
    "# Support Vector Machine\n",
    "\n",
    "This may take a little while to run..."
   ]
  },
  {
   "cell_type": "code",
   "execution_count": 10,
   "id": "laughing-stream",
   "metadata": {},
   "outputs": [],
   "source": [
    "from sklearn.svm import SVC\n",
    "\n",
    "model = SVC()\n",
    "model.fit(Xtrain, ytrain)\n",
    "yhat = model.predict(Xtest)"
   ]
  },
  {
   "cell_type": "code",
   "execution_count": 11,
   "id": "revolutionary-ribbon",
   "metadata": {},
   "outputs": [
    {
     "name": "stdout",
     "output_type": "stream",
     "text": [
      "Accuracy is 0.5867788461538461\n",
      "F1 score is 0.5826850583443106\n"
     ]
    }
   ],
   "source": [
    "acc = accuracy_score(ytest, yhat)\n",
    "f1 = f1_score(ytest, yhat, average='macro')\n",
    "print(f'Accuracy is {acc}')\n",
    "print(f'F1 score is {f1}')"
   ]
  }
 ],
 "metadata": {
  "kernelspec": {
   "display_name": "Python 3 (ipykernel)",
   "language": "python",
   "name": "python3"
  },
  "language_info": {
   "codemirror_mode": {
    "name": "ipython",
    "version": 3
   },
   "file_extension": ".py",
   "mimetype": "text/x-python",
   "name": "python",
   "nbconvert_exporter": "python",
   "pygments_lexer": "ipython3",
   "version": "3.6.12"
  }
 },
 "nbformat": 4,
 "nbformat_minor": 5
}

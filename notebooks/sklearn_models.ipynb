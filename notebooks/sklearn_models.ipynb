{
 "cells": [
  {
   "cell_type": "markdown",
   "id": "japanese-theme",
   "metadata": {},
   "source": [
    "# Various sklearn models"
   ]
  },
  {
   "cell_type": "code",
   "execution_count": 1,
   "id": "solved-locking",
   "metadata": {},
   "outputs": [],
   "source": [
    "import numpy as np\n",
    "import matplotlib.pyplot as plt\n",
    "import os\n",
    "from sklearn.metrics import accuracy_score, f1_score\n",
    "\n",
    "Xtrain = np.load(os.getcwd()+'/../feature_representations/feature_representation_2_train.npy')\n",
    "ytrain = np.load(os.getcwd()+'/../feature_representations/ytrain.npy')\n",
    "Xtest = np.load(os.getcwd()+'/../feature_representations/feature_representation_2_test.npy')\n",
    "ytest = np.load(os.getcwd()+'/../feature_representations/ytest.npy')"
   ]
  },
  {
   "cell_type": "code",
   "execution_count": 2,
   "id": "induced-recipient",
   "metadata": {},
   "outputs": [
    {
     "data": {
      "text/plain": [
       "((124800, 17), (124800,), (20800, 17), (20800,))"
      ]
     },
     "execution_count": 2,
     "metadata": {},
     "output_type": "execute_result"
    }
   ],
   "source": [
    "Xtrain.shape, ytrain.shape, Xtest.shape, ytest.shape"
   ]
  },
  {
   "cell_type": "markdown",
   "id": "attempted-deficit",
   "metadata": {},
   "source": [
    "I have noticed better performance so far by removing the last 10 features for FR1."
   ]
  },
  {
   "cell_type": "code",
   "execution_count": 3,
   "id": "iraqi-closer",
   "metadata": {},
   "outputs": [
    {
     "data": {
      "text/plain": [
       "((124800, 8), (124800,), (20800, 8), (20800,))"
      ]
     },
     "execution_count": 3,
     "metadata": {},
     "output_type": "execute_result"
    }
   ],
   "source": [
    "Xtrain = Xtrain[:,:8]\n",
    "Xtest = Xtest[:,:8]\n",
    "Xtrain.shape, ytrain.shape, Xtest.shape, ytest.shape"
   ]
  },
  {
   "cell_type": "markdown",
   "id": "widespread-mechanism",
   "metadata": {},
   "source": [
    "# KNN"
   ]
  },
  {
   "cell_type": "code",
   "execution_count": 3,
   "id": "varied-exhaust",
   "metadata": {},
   "outputs": [],
   "source": [
    "from sklearn.neighbors import KNeighborsClassifier\n",
    "\n",
    "k = 3\n",
    "model = KNeighborsClassifier(n_neighbors=k)\n",
    "model.fit(Xtrain, ytrain)\n",
    "yhat = model.predict(Xtest)"
   ]
  },
  {
   "cell_type": "code",
   "execution_count": 4,
   "id": "assisted-murder",
   "metadata": {},
   "outputs": [
    {
     "name": "stdout",
     "output_type": "stream",
     "text": [
      "Accuracy is 0.6920673076923077\n",
      "F1 score is 0.6933827875749089\n"
     ]
    }
   ],
   "source": [
    "acc = accuracy_score(ytest, yhat)\n",
    "f1 = f1_score(ytest, yhat, average='macro')\n",
    "print(f'Accuracy is {acc}')\n",
    "print(f'F1 score is {f1}')"
   ]
  },
  {
   "cell_type": "markdown",
   "id": "grave-permission",
   "metadata": {},
   "source": [
    "# Naive Bayes"
   ]
  },
  {
   "cell_type": "code",
   "execution_count": 5,
   "id": "contemporary-flower",
   "metadata": {},
   "outputs": [],
   "source": [
    "from sklearn.naive_bayes import GaussianNB\n",
    "\n",
    "model = GaussianNB()\n",
    "model.fit(Xtrain, ytrain)\n",
    "yhat = model.predict(Xtest)"
   ]
  },
  {
   "cell_type": "code",
   "execution_count": 6,
   "id": "monetary-electron",
   "metadata": {},
   "outputs": [
    {
     "name": "stdout",
     "output_type": "stream",
     "text": [
      "Accuracy is 0.4758173076923077\n",
      "F1 score is 0.46572068454345134\n"
     ]
    }
   ],
   "source": [
    "acc = accuracy_score(ytest, yhat)\n",
    "f1 = f1_score(ytest, yhat, average='macro')\n",
    "print(f'Accuracy is {acc}')\n",
    "print(f'F1 score is {f1}')"
   ]
  },
  {
   "cell_type": "markdown",
   "id": "chief-electricity",
   "metadata": {},
   "source": [
    "# Random Forest"
   ]
  },
  {
   "cell_type": "code",
   "execution_count": 7,
   "id": "arbitrary-court",
   "metadata": {},
   "outputs": [],
   "source": [
    "from sklearn.ensemble import RandomForestClassifier\n",
    "\n",
    "model = RandomForestClassifier()\n",
    "model.fit(Xtrain, ytrain)\n",
    "yhat = model.predict(Xtest)"
   ]
  },
  {
   "cell_type": "code",
   "execution_count": 8,
   "id": "concerned-receiver",
   "metadata": {},
   "outputs": [
    {
     "name": "stdout",
     "output_type": "stream",
     "text": [
      "Accuracy is 0.7613942307692307\n",
      "F1 score is 0.7601282692316084\n"
     ]
    }
   ],
   "source": [
    "acc = accuracy_score(ytest, yhat)\n",
    "f1 = f1_score(ytest, yhat, average='macro')\n",
    "print(f'Accuracy is {acc}')\n",
    "print(f'F1 score is {f1}')"
   ]
  },
  {
   "cell_type": "markdown",
   "id": "future-sword",
   "metadata": {},
   "source": [
    "# Support Vector Machine\n",
    "\n",
    "This may take a little while to run..."
   ]
  },
  {
   "cell_type": "code",
   "execution_count": 9,
   "id": "laughing-stream",
   "metadata": {},
   "outputs": [],
   "source": [
    "from sklearn.svm import SVC\n",
    "\n",
    "model = SVC()\n",
    "model.fit(Xtrain, ytrain)\n",
    "yhat = model.predict(Xtest)"
   ]
  },
  {
   "cell_type": "code",
   "execution_count": 10,
   "id": "revolutionary-ribbon",
   "metadata": {},
   "outputs": [
    {
     "name": "stdout",
     "output_type": "stream",
     "text": [
      "Accuracy is 0.8121634615384615\n",
      "F1 score is 0.8120494817065604\n"
     ]
    }
   ],
   "source": [
    "acc = accuracy_score(ytest, yhat)\n",
    "f1 = f1_score(ytest, yhat, average='macro')\n",
    "print(f'Accuracy is {acc}')\n",
    "print(f'F1 score is {f1}')"
   ]
  },
  {
   "cell_type": "code",
   "execution_count": 3,
   "id": "likely-effort",
   "metadata": {},
   "outputs": [],
   "source": [
    "model = SVC(kernel='linear')\n",
    "model.fit(Xtrain, ytrain)\n",
    "yhat = model.predict(Xtest)"
   ]
  },
  {
   "cell_type": "code",
   "execution_count": 4,
   "id": "miniature-trainer",
   "metadata": {},
   "outputs": [
    {
     "name": "stdout",
     "output_type": "stream",
     "text": [
      "Accuracy is 0.692451923076923\n",
      "F1 score is 0.6906966772755812\n"
     ]
    }
   ],
   "source": [
    "acc = accuracy_score(ytest, yhat)\n",
    "f1 = f1_score(ytest, yhat, average='macro')\n",
    "print(f'Accuracy is {acc}')\n",
    "print(f'F1 score is {f1}')"
   ]
  },
  {
   "cell_type": "code",
   "execution_count": 5,
   "id": "built-issue",
   "metadata": {},
   "outputs": [],
   "source": [
    "model = SVC(kernel='poly')\n",
    "model.fit(Xtrain, ytrain)\n",
    "yhat = model.predict(Xtest)"
   ]
  },
  {
   "cell_type": "code",
   "execution_count": 6,
   "id": "asian-table",
   "metadata": {},
   "outputs": [
    {
     "name": "stdout",
     "output_type": "stream",
     "text": [
      "Accuracy is 0.7886057692307692\n",
      "F1 score is 0.7885673466668843\n"
     ]
    }
   ],
   "source": [
    "acc = accuracy_score(ytest, yhat)\n",
    "f1 = f1_score(ytest, yhat, average='macro')\n",
    "print(f'Accuracy is {acc}')\n",
    "print(f'F1 score is {f1}')"
   ]
  },
  {
   "cell_type": "markdown",
   "id": "assured-danger",
   "metadata": {},
   "source": [
    "# Neural Network"
   ]
  },
  {
   "cell_type": "code",
   "execution_count": 12,
   "id": "scheduled-obligation",
   "metadata": {},
   "outputs": [
    {
     "name": "stderr",
     "output_type": "stream",
     "text": [
      "/Users/conor/opt/anaconda3/envs/3022/lib/python3.9/site-packages/sklearn/neural_network/_multilayer_perceptron.py:582: ConvergenceWarning: Stochastic Optimizer: Maximum iterations (200) reached and the optimization hasn't converged yet.\n",
      "  warnings.warn(\n"
     ]
    },
    {
     "data": {
      "text/plain": [
       "MLPClassifier(activation='logistic', batch_size=16,\n",
       "              hidden_layer_sizes=[25, 50, 100, 50], random_state=4622)"
      ]
     },
     "execution_count": 12,
     "metadata": {},
     "output_type": "execute_result"
    }
   ],
   "source": [
    "from sklearn.neural_network import MLPClassifier\n",
    "\n",
    "model = MLPClassifier(\n",
    "    hidden_layer_sizes = [25,50,100,50],\n",
    "    activation='logistic',\n",
    "    solver='adam',\n",
    "    batch_size=16,\n",
    "    shuffle=True,\n",
    "    random_state=4622,\n",
    ")\n",
    "model.fit(Xtrain, ytrain)"
   ]
  },
  {
   "cell_type": "code",
   "execution_count": 13,
   "id": "worthy-orange",
   "metadata": {},
   "outputs": [
    {
     "name": "stdout",
     "output_type": "stream",
     "text": [
      "Accuracy is 0.8121634615384615\n",
      "F1 score is 0.8120494817065604\n"
     ]
    }
   ],
   "source": [
    "acc = accuracy_score(ytest, yhat)\n",
    "f1 = f1_score(ytest, yhat, average='macro')\n",
    "print(f'Accuracy is {acc}')\n",
    "print(f'F1 score is {f1}')"
   ]
  }
 ],
 "metadata": {
  "kernelspec": {
   "display_name": "Python 3",
   "language": "python",
   "name": "python3"
  },
  "language_info": {
   "codemirror_mode": {
    "name": "ipython",
    "version": 3
   },
   "file_extension": ".py",
   "mimetype": "text/x-python",
   "name": "python",
   "nbconvert_exporter": "python",
   "pygments_lexer": "ipython3",
   "version": "3.9.1"
  }
 },
 "nbformat": 4,
 "nbformat_minor": 5
}
